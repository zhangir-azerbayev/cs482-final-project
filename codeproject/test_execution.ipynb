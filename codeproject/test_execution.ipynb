{
 "cells": [
  {
   "cell_type": "code",
   "execution_count": 1,
   "id": "95fb7664",
   "metadata": {},
   "outputs": [],
   "source": [
    "from execution import check_correctness\n",
    "import json"
   ]
  },
  {
   "cell_type": "code",
   "execution_count": 2,
   "id": "1bc4a23b",
   "metadata": {},
   "outputs": [],
   "source": [
    "with open(\"data/mbpp/sorted_mbpp.json\") as f: \n",
    "    data = json.load(f)"
   ]
  },
  {
   "cell_type": "code",
   "execution_count": 3,
   "id": "8b43eaff",
   "metadata": {},
   "outputs": [
    {
     "data": {
      "text/plain": [
       "dict_keys(['text', 'code', 'task_id', 'test_setup_code', 'test_list', 'challenge_test_list', 'header'])"
      ]
     },
     "execution_count": 3,
     "metadata": {},
     "output_type": "execute_result"
    }
   ],
   "source": [
    "data[0].keys()"
   ]
  },
  {
   "cell_type": "code",
   "execution_count": 4,
   "id": "1d55da35",
   "metadata": {},
   "outputs": [
    {
     "name": "stdout",
     "output_type": "stream",
     "text": [
      "def hexagonal_num(n): \r\n",
      "\treturn n*(2*n - 1) \n",
      "</cell>\n",
      "assert hexagonal_num(10) == 190\n",
      "assert hexagonal_num(5) == 45\n",
      "assert hexagonal_num(7) == 91\n"
     ]
    }
   ],
   "source": [
    "i = 12\n",
    "prog = data[i][\"code\"]\n",
    "\n",
    "for x in data[i][\"test_list\"]: \n",
    "    prog = prog + '\\n' + x\n",
    "print(prog)"
   ]
  },
  {
   "cell_type": "code",
   "execution_count": 5,
   "id": "b73dd51b",
   "metadata": {},
   "outputs": [
    {
     "data": {
      "text/plain": [
       "{'passed': True, 'result': 'passed'}"
      ]
     },
     "execution_count": 5,
     "metadata": {},
     "output_type": "execute_result"
    }
   ],
   "source": [
    "check_correctness(prog.replace(\"</cell>\", \"\"), 1)"
   ]
  }
 ],
 "metadata": {
  "kernelspec": {
   "display_name": "Python 3 (ipykernel)",
   "language": "python",
   "name": "python3"
  },
  "language_info": {
   "codemirror_mode": {
    "name": "ipython",
    "version": 3
   },
   "file_extension": ".py",
   "mimetype": "text/x-python",
   "name": "python",
   "nbconvert_exporter": "python",
   "pygments_lexer": "ipython3",
   "version": "3.9.7"
  }
 },
 "nbformat": 4,
 "nbformat_minor": 5
}
