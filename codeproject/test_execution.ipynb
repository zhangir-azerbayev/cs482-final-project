{
 "cells": [
  {
   "cell_type": "code",
   "execution_count": 1,
   "id": "7c6b8c3c",
   "metadata": {},
   "outputs": [],
   "source": [
    "from execution import check_correctness\n",
    "import json"
   ]
  },
  {
   "cell_type": "code",
   "execution_count": 2,
   "id": "a31aeeb9",
   "metadata": {},
   "outputs": [],
   "source": [
    "with open(\"data/mbpp/sorted_mbpp.json\") as f: \n",
    "    data = json.load(f)"
   ]
  },
  {
   "cell_type": "code",
   "execution_count": 3,
   "id": "f0bf22d0",
   "metadata": {},
   "outputs": [
    {
     "data": {
      "text/plain": [
       "dict_keys(['text', 'code', 'task_id', 'test_setup_code', 'test_list', 'challenge_test_list', 'header'])"
      ]
     },
     "execution_count": 3,
     "metadata": {},
     "output_type": "execute_result"
    }
   ],
   "source": [
    "data[0].keys()"
   ]
  },
  {
   "cell_type": "code",
   "execution_count": 6,
   "id": "996f7498",
   "metadata": {},
   "outputs": [
    {
     "name": "stdout",
     "output_type": "stream",
     "text": [
      "hexagonal_num = lambda n: n**2\n",
      "assert hexagonal_num(10) == 190\n",
      "assert hexagonal_num(5) == 45\n",
      "assert hexagonal_num(7) == 91\n"
     ]
    }
   ],
   "source": [
    "i = 12\n",
    "prog = \"hexagonal_num = lambda n: n**2\"\n",
    "\n",
    "for x in data[i][\"test_list\"]: \n",
    "    prog = prog + '\\n' + x\n",
    "print(prog)"
   ]
  },
  {
   "cell_type": "code",
   "execution_count": 7,
   "id": "f6ea6f8c",
   "metadata": {},
   "outputs": [
    {
     "data": {
      "text/plain": [
       "{'passed': False, 'result': 'failed: '}"
      ]
     },
     "execution_count": 7,
     "metadata": {},
     "output_type": "execute_result"
    }
   ],
   "source": [
    "check_correctness(prog.replace(\"</cell>\", \"\"), 1)"
   ]
  }
 ],
 "metadata": {
  "kernelspec": {
   "display_name": "Python 3 (ipykernel)",
   "language": "python",
   "name": "python3"
  },
  "language_info": {
   "codemirror_mode": {
    "name": "ipython",
    "version": 3
   },
   "file_extension": ".py",
   "mimetype": "text/x-python",
   "name": "python",
   "nbconvert_exporter": "python",
   "pygments_lexer": "ipython3",
   "version": "3.9.7"
  }
 },
 "nbformat": 4,
 "nbformat_minor": 5
}
