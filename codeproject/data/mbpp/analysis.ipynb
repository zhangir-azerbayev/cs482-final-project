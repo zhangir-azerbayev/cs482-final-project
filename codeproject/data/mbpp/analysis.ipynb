{
 "cells": [
  {
   "cell_type": "code",
   "execution_count": 1,
   "id": "504b5a87",
   "metadata": {},
   "outputs": [],
   "source": [
    "import matplotlib.pyplot as plt\n",
    "import numpy as np\n",
    "import json"
   ]
  },
  {
   "cell_type": "code",
   "execution_count": 2,
   "id": "26835174",
   "metadata": {},
   "outputs": [],
   "source": [
    "with open(\"sorted_mbpp.json\") as f: \n",
    "    data = json.load(f)"
   ]
  },
  {
   "cell_type": "code",
   "execution_count": 3,
   "id": "105e164d",
   "metadata": {},
   "outputs": [],
   "source": [
    "code_lengths = [x[\"code\"].count(\"\\n\") for x in data]"
   ]
  },
  {
   "cell_type": "code",
   "execution_count": 4,
   "id": "ba5d4405",
   "metadata": {},
   "outputs": [
    {
     "data": {
      "image/png": "[encoded data removed]",
      "text/plain": [
       "<Figure size 432x288 with 1 Axes>"
      ]
     },
     "metadata": {
      "needs_background": "light"
     },
     "output_type": "display_data"
    }
   ],
   "source": [
    "plt.hist(code_lengths)\n",
    "plt.show()"
   ]
  },
  {
   "cell_type": "code",
   "execution_count": 5,
   "id": "211e69cf",
   "metadata": {},
   "outputs": [
    {
     "name": "stdout",
     "output_type": "stream",
     "text": [
      "5.0\n"
     ]
    }
   ],
   "source": [
    "print(np.median(code_lengths))"
   ]
  },
  {
   "cell_type": "code",
   "execution_count": 6,
   "id": "3c2c5cfc",
   "metadata": {},
   "outputs": [
    {
     "name": "stdout",
     "output_type": "stream",
     "text": [
      "Write a function to count the most common character in a given string.\n",
      "from collections import Counter \r\n",
      "def max_char(str1):\r\n",
      "    temp = Counter(str1) \r\n",
      "    max_char = max(temp, key = temp.get)\r\n",
      "    return max_char\n",
      "END\n",
      "937\n",
      "\n",
      "['assert max_char(\"hello world\")==(\\'l\\')', 'assert max_char(\"hello \")==(\\'l\\')', 'assert max_char(\"python pr\")==(\\'p\\')']\n",
      "[]\n"
     ]
    }
   ],
   "source": [
    "for key in data[500]: \n",
    "    print(data[500][key])"
   ]
  },
  {
   "cell_type": "code",
   "execution_count": 7,
   "id": "5e613872",
   "metadata": {},
   "outputs": [
    {
     "data": {
      "image/png": "[encoded data removed]",
      "text/plain": [
       "<Figure size 432x288 with 1 Axes>"
      ]
     },
     "metadata": {
      "needs_background": "light"
     },
     "output_type": "display_data"
    }
   ],
   "source": [
    "from transformers import GPT2Tokenizer\n",
    "\n",
    "tokenizer = GPT2Tokenizer.from_pretrained(\"EleutherAI/gpt-neo-125M\")\n",
    "\n",
    "lengths = [len(tokenizer.encode(x[\"code\"])) for x in data[:500]]\n",
    "\n",
    "plt.cla()\n",
    "plt.hist(lengths)\n",
    "plt.show()"
   ]
  },
  {
   "cell_type": "markdown",
   "id": "47f040a3",
   "metadata": {},
   "source": [
    "So a good max_length for training is 120"
   ]
  },
  {
   "cell_type": "code",
   "execution_count": 11,
   "id": "62271791",
   "metadata": {},
   "outputs": [
    {
     "data": {
      "image/png": "[encoded data removed]",
      "text/plain": [
       "<Figure size 432x288 with 1 Axes>"
      ]
     },
     "metadata": {
      "needs_background": "light"
     },
     "output_type": "display_data"
    }
   ],
   "source": [
    "from transformers import GPT2Tokenizer\n",
    "\n",
    "tokenizer = GPT2Tokenizer.from_pretrained(\"EleutherAI/gpt-neo-125M\")\n",
    "\n",
    "lengths = [len(tokenizer.encode(x[\"code\"])) for x in data[500:]]\n",
    "\n",
    "plt.cla()\n",
    "plt.hist(lengths)\n",
    "plt.show()"
   ]
  },
  {
   "cell_type": "code",
   "execution_count": 13,
   "id": "5f5e95c5",
   "metadata": {},
   "outputs": [
    {
     "data": {
      "image/png": "[encoded data removed]",
      "text/plain": [
       "<Figure size 432x288 with 1 Axes>"
      ]
     },
     "metadata": {
      "needs_background": "light"
     },
     "output_type": "display_data"
    }
   ],
   "source": [
    "from transformers import GPT2Tokenizer\n",
    "\n",
    "tokenizer = GPT2Tokenizer.from_pretrained(\"EleutherAI/gpt-neo-125M\")\n",
    "\n",
    "lengths = [len(tokenizer.encode(x[\"text\"])) for x in data[500:]]\n",
    "\n",
    "plt.cla()\n",
    "plt.hist(lengths)\n",
    "plt.show()"
   ]
  },
  {
   "cell_type": "markdown",
   "id": "de847ed5",
   "metadata": {},
   "source": [
    "So a good max_len for generation is 350"
   ]
  },
  {
   "cell_type": "code",
   "execution_count": null,
   "id": "47a5811d",
   "metadata": {},
   "outputs": [],
   "source": [
    "tokenizer.encode('END')"
   ]
  }
 ],
 "metadata": {
  "kernelspec": {
   "display_name": "Python 3 (ipykernel)",
   "language": "python",
   "name": "python3"
  },
  "language_info": {
   "codemirror_mode": {
    "name": "ipython",
    "version": 3
   },
   "file_extension": ".py",
   "mimetype": "text/x-python",
   "name": "python",
   "nbconvert_exporter": "python",
   "pygments_lexer": "ipython3",
   "version": "3.9.7"
  }
 },
 "nbformat": 4,
 "nbformat_minor": 5
}
