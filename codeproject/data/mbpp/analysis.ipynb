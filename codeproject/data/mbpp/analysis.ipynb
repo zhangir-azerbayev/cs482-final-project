{
 "cells": [
  {
   "cell_type": "code",
   "execution_count": 1,
   "id": "315a4484",
   "metadata": {},
   "outputs": [],
   "source": [
    "from codeproject.data.mbpp.sorted_mbpp import get_sorted_mbpp\n",
    "import matplotlib.pyplot as plt\n",
    "import numpy as np"
   ]
  },
  {
   "cell_type": "code",
   "execution_count": 2,
   "id": "094d3e69",
   "metadata": {},
   "outputs": [],
   "source": [
    "data = get_sorted_mbpp()"
   ]
  },
  {
   "cell_type": "code",
   "execution_count": 3,
   "id": "28f9dc26",
   "metadata": {},
   "outputs": [],
   "source": [
    "code_lengths = [x[\"code\"].count(\"\\n\") for x in data]"
   ]
  },
  {
   "cell_type": "code",
   "execution_count": 4,
   "id": "6685eb83",
   "metadata": {},
   "outputs": [
    {
     "data": {
      "image/png": "[encoded data removed]",
      "text/plain": [
       "<Figure size 432x288 with 1 Axes>"
      ]
     },
     "metadata": {
      "needs_background": "light"
     },
     "output_type": "display_data"
    }
   ],
   "source": [
    "plt.hist(code_lengths)\n",
    "plt.show()"
   ]
  },
  {
   "cell_type": "code",
   "execution_count": 5,
   "id": "53fd4e49",
   "metadata": {},
   "outputs": [
    {
     "name": "stdout",
     "output_type": "stream",
     "text": [
      "5.0\n"
     ]
    }
   ],
   "source": [
    "print(np.median(code_lengths))"
   ]
  },
  {
   "cell_type": "code",
   "execution_count": 6,
   "id": "006549e1",
   "metadata": {},
   "outputs": [
    {
     "name": "stdout",
     "output_type": "stream",
     "text": [
      "Write a python function to multiply all items in the list.\n",
      "def multiply_list(items):\r\n",
      "    tot = 1\r\n",
      "    for x in items:\r\n",
      "        tot *= x\r\n",
      "    return tot\n",
      "END\n",
      "919\n",
      "\n",
      "['assert multiply_list([1,-2,3]) == -6', 'assert multiply_list([1,2,3,4]) == 24', 'assert multiply_list([3,1,2,3]) == 18']\n",
      "[]\n"
     ]
    }
   ],
   "source": [
    "for key in data[500]: \n",
    "    print(data[500][key])"
   ]
  },
  {
   "cell_type": "code",
   "execution_count": 7,
   "id": "6c42fa2e",
   "metadata": {},
   "outputs": [
    {
     "data": {
      "image/png": "[encoded data removed]",
      "text/plain": [
       "<Figure size 432x288 with 1 Axes>"
      ]
     },
     "metadata": {
      "needs_background": "light"
     },
     "output_type": "display_data"
    }
   ],
   "source": [
    "from transformers import AutoModelForCausalLM, AutoTokenizer\n",
    "\n",
    "tokenizer = AutoTokenizer.from_pretrained(\"shpotes/codegen-350M-mono\")\n",
    "\n",
    "lengths = [len(tokenizer.encode(x[\"text\"] + x[\"code\"])) for x in data[:500]]\n",
    "\n",
    "plt.hist(lengths)\n",
    "plt.show()"
   ]
  },
  {
   "cell_type": "markdown",
   "id": "4f2afafb",
   "metadata": {},
   "source": [
    "So a good max_length for training is 120"
   ]
  },
  {
   "cell_type": "code",
   "execution_count": 8,
   "id": "932941fe",
   "metadata": {},
   "outputs": [
    {
     "data": {
      "image/png": "[encoded data removed]",
      "text/plain": [
       "<Figure size 432x288 with 1 Axes>"
      ]
     },
     "metadata": {
      "needs_background": "light"
     },
     "output_type": "display_data"
    }
   ],
   "source": [
    "from transformers import AutoModelForCausalLM, AutoTokenizer\n",
    "\n",
    "tokenizer = AutoTokenizer.from_pretrained(\"shpotes/codegen-350M-mono\")\n",
    "\n",
    "lengths = [len(tokenizer.encode(x[\"text\"] + x[\"code\"])) for x in data[500:]]\n",
    "\n",
    "plt.hist(lengths)\n",
    "plt.show()"
   ]
  },
  {
   "cell_type": "markdown",
   "id": "d0b47ffd",
   "metadata": {},
   "source": [
    "So a good max_len for generation is 350"
   ]
  },
  {
   "cell_type": "code",
   "execution_count": 9,
   "id": "195a8f19",
   "metadata": {},
   "outputs": [
    {
     "data": {
      "text/plain": [
       "[10619]"
      ]
     },
     "execution_count": 9,
     "metadata": {},
     "output_type": "execute_result"
    }
   ],
   "source": [
    "tokenizer.encode('END')"
   ]
  }
 ],
 "metadata": {
  "kernelspec": {
   "display_name": "Python 3 (ipykernel)",
   "language": "python",
   "name": "python3"
  },
  "language_info": {
   "codemirror_mode": {
    "name": "ipython",
    "version": 3
   },
   "file_extension": ".py",
   "mimetype": "text/x-python",
   "name": "python",
   "nbconvert_exporter": "python",
   "pygments_lexer": "ipython3",
   "version": "3.9.7"
  }
 },
 "nbformat": 4,
 "nbformat_minor": 5
}
